{
 "cells": [
  {
   "cell_type": "code",
   "execution_count": 1,
   "metadata": {},
   "outputs": [],
   "source": [
    "#! /usr/bin/env python\n",
    "import rospy\n",
    "from geometry_msgs.msg import Twist"
   ]
  },
  {
   "cell_type": "code",
   "execution_count": 42,
   "metadata": {},
   "outputs": [
    {
     "name": "stdout",
     "output_type": "stream",
     "text": [
      "start moving\n",
      "stopping\n"
     ]
    }
   ],
   "source": [
    "\n",
    "rospy.init_node(\"speed_cmd_test_node\")\n",
    "pub=rospy.Publisher(\"/husky_velocity_controller/cmd_vel\",Twist,queue_size=1)\n",
    "while pub.get_num_connections()<1:\n",
    "    pass\n",
    "print(\"start moving\")\n",
    "TW=Twist()\n",
    "#move forward for 0.5 secs\n",
    "TW.linear.x=0.5\n",
    "TW.angular.z=0#-0.50\n",
    "pub.publish(TW)\n",
    "rospy.sleep(0.5)\n",
    "#stop root\n",
    "print(\"stopping\")\n",
    "TW.linear.x=0\n",
    "TW.angular.z=0\n",
    "pub.publish(TW)"
   ]
  }
 ],
 "metadata": {
  "interpreter": {
   "hash": "629f3d67fc7ae86d3b664d8e82822e3dc66b39eb47e0f284e825bbfbcb4fc3f2"
  },
  "kernelspec": {
   "display_name": "Python 3.8.10 ('.venv': venv)",
   "language": "python",
   "name": "python3"
  },
  "language_info": {
   "codemirror_mode": {
    "name": "ipython",
    "version": 3
   },
   "file_extension": ".py",
   "mimetype": "text/x-python",
   "name": "python",
   "nbconvert_exporter": "python",
   "pygments_lexer": "ipython3",
   "version": "3.8.10"
  },
  "orig_nbformat": 4
 },
 "nbformat": 4,
 "nbformat_minor": 2
}
